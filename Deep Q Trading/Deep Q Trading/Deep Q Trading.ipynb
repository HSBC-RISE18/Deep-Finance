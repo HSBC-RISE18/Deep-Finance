{
 "cells": [
  {
   "cell_type": "code",
   "execution_count": 43,
   "metadata": {},
   "outputs": [],
   "source": [
    "import time\n",
    "from os.path import join\n",
    "\n",
    "import tensorflow as tf\n",
    "import numpy as np\n",
    "from argparse import ArgumentParser\n",
    "\n",
    "from dqtrading.process.processor import Processor\n",
    "\n",
    "from dqtrading.model.agent import Agent\n",
    "from dqtrading.model.environment import Environment\n",
    "\n",
    "from dqtrading.utils.config import get_config\n",
    "from dqtrading.utils.constants import *\n",
    "from dqtrading.utils.strings import *\n",
    "from dqtrading.utils.util import *"
   ]
  },
  {
   "cell_type": "code",
   "execution_count": 22,
   "metadata": {
    "collapsed": true
   },
   "outputs": [],
   "source": [
    "import configparser"
   ]
  },
  {
   "cell_type": "code",
   "execution_count": 44,
   "metadata": {
    "collapsed": true
   },
   "outputs": [],
   "source": [
    "def main(config_file_path):\n",
    "    config_parser = get_config_parser(config_file_path)\n",
    "    config = get_config(config_parser)\n",
    "    logger = get_logger(config)\n",
    "\n",
    "    with tf.Session() as sess:\n",
    "        processor = Processor(config, logger)\n",
    "        env = Environment(logger, config, processor.price_blocks, processor.timestamp_blocks)\n",
    "        agent = Agent(sess, logger, config, env)\n",
    "        agent.train()\n",
    "\n",
    "        agent.summary_writer.close()"
   ]
  },
  {
   "cell_type": "code",
   "execution_count": 45,
   "metadata": {},
   "outputs": [
    {
     "name": "stderr",
     "output_type": "stream",
     "text": [
      "usage: ipykernel_launcher.py [-h] [--config FILE_PATH]\n",
      "ipykernel_launcher.py: error: unrecognized arguments: -f /Users/hussainmohammadyousuf/Library/Jupyter/runtime/kernel-ac6f404e-096e-4306-99fd-61b5641ba799.json\n"
     ]
    },
    {
     "ename": "SystemExit",
     "evalue": "2",
     "output_type": "error",
     "traceback": [
      "An exception has occurred, use %tb to see the full traceback.\n",
      "\u001b[0;31mSystemExit\u001b[0m\u001b[0;31m:\u001b[0m 2\n"
     ]
    },
    {
     "name": "stderr",
     "output_type": "stream",
     "text": [
      "/Users/hussainmohammadyousuf/anaconda/lib/python3.6/site-packages/IPython/core/interactiveshell.py:2889: UserWarning: To exit: use 'exit', 'quit', or Ctrl-D.\n",
      "  warn(\"To exit: use 'exit', 'quit', or Ctrl-D.\", stacklevel=1)\n"
     ]
    }
   ],
   "source": [
    "if __name__ == \"__main__\":\n",
    "    arg_parser = ArgumentParser(description='Deep Q Trading with DeepSense Architecture')\n",
    "    arg_parser.add_argument('--config', dest='file_path',\n",
    "                            help='Path for the configuration file')\n",
    "    args = arg_parser.parse_args()\n",
    "    main(vars(args)['file_path'])"
   ]
  },
  {
   "cell_type": "code",
   "execution_count": null,
   "metadata": {
    "collapsed": true
   },
   "outputs": [],
   "source": []
  }
 ],
 "metadata": {
  "kernelspec": {
   "display_name": "Python 3",
   "language": "python",
   "name": "python3"
  }
 },
 "nbformat": 4,
 "nbformat_minor": 2
}
