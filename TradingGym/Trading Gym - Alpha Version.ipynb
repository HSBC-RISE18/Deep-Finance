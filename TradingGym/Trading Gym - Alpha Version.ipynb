{
 "cells": [
  {
   "cell_type": "markdown",
   "metadata": {},
   "source": [
    "# OpenAI Trading Gym Environment for Reinforcement Learning"
   ]
  },
  {
   "cell_type": "markdown",
   "metadata": {},
   "source": [
    "Author: Mohammad Yousuf Hussain, CFA\n",
    "\n",
    "\n",
    "\n",
    "Credits: HackTheMarket\n",
    "\n",
    "Source: https://github.com/hackthemarket/gym-trading\n",
    "        "
   ]
  },
  {
   "cell_type": "markdown",
   "metadata": {},
   "source": [
    "This gym implements a very simple trading environment for reinforcement learning.\n",
    "\n",
    "The gym provides daily observations based on real market data pulled from Quandl on, by default, the SPY etf. An episode is defined as 252 contiguous days sampled from the overall dataset. Each day is one 'step' within the gym and for each step, the algo has a choice:\n",
    "\n",
    "- SHORT (0)\n",
    "- FLAT (1)\n",
    "- LONG (2)\n",
    "\n",
    "If you trade, you will be charged, by default, 10 BPS of the size of your trade. Thus, going from short to long costs twice as much as going from short to/from flat. Not trading also has a default cost of 1 BPS per step. Nobody said it would be easy!\n",
    "\n",
    "At the beginning of your episode, you are allocated 1 unit of cash. This is your starting Net Asset Value (NAV)."
   ]
  },
  {
   "cell_type": "markdown",
   "metadata": {},
   "source": [
    "## Win Criteria: Outperform 'Buy and Hold'"
   ]
  },
  {
   "cell_type": "markdown",
   "metadata": {},
   "source": [
    "For our purposes, we'll say that beating a buy & hold strategy, on average, over one hundred episodes will notch a win to the proud ai player. We'll illustrate exactly what that means below."
   ]
  },
  {
   "cell_type": "markdown",
   "metadata": {},
   "source": [
    "#### Dependencies for Creating the Environment"
   ]
  },
  {
   "cell_type": "code",
   "execution_count": 9,
   "metadata": {
    "collapsed": true
   },
   "outputs": [],
   "source": [
    "import gym\n",
    "import numpy as np\n",
    "import pandas as pd\n",
    "import matplotlib as mpl\n",
    "import matplotlib.pyplot as plt\n",
    "from matplotlib import interactive\n",
    "interactive(True)"
   ]
  },
  {
   "cell_type": "code",
   "execution_count": 55,
   "metadata": {},
   "outputs": [
    {
     "name": "stderr",
     "output_type": "stream",
     "text": [
      "[2018-01-30 11:54:58,095] Making new env: trading-v0\n"
     ]
    }
   ],
   "source": [
    "import gym_trading\n",
    "env = gym.make('trading-v0')\n",
    "#env.time_cost_bps = 0 #"
   ]
  },
  {
   "cell_type": "markdown",
   "metadata": {},
   "source": [
    "#### Trading Model"
   ]
  },
  {
   "cell_type": "markdown",
   "metadata": {},
   "source": [
    "Each time step is a day. Each episode is 252 trading days - a year. Each day, we can choose to be short (0), flat (1) or long (2) the single instrument in our trading universe.\n",
    "\n",
    "Let's run through a day and stay flat."
   ]
  },
  {
   "cell_type": "code",
   "execution_count": 14,
   "metadata": {},
   "outputs": [
    {
     "name": "stdout",
     "output_type": "stream",
     "text": [
      "Annualized return:  -0.0247888380589\n"
     ]
    },
    {
     "data": {
      "image/png": "[encoded data removed]",
      "text/plain": [
       "<matplotlib.figure.Figure at 0x120884b70>"
      ]
     },
     "metadata": {},
     "output_type": "display_data"
    }
   ],
   "source": [
    "observation = env.reset()\n",
    "done = False\n",
    "navs = []\n",
    "while not done:\n",
    "    action = 1 # stay flat\n",
    "    observation, reward, done, info = env.step(action)\n",
    "    navs.append(info['nav'])\n",
    "    if done:\n",
    "        print ('Annualized return: ',navs[len(navs)-1]-1)\n",
    "        pd.DataFrame(navs).plot()"
   ]
  },
  {
   "cell_type": "markdown",
   "metadata": {},
   "source": [
    "#### Note that you are charged just for playing - to the tune of 1 basis point per day!"
   ]
  },
  {
   "cell_type": "markdown",
   "metadata": {},
   "source": [
    "#### Utility Methods"
   ]
  },
  {
   "cell_type": "markdown",
   "metadata": {},
   "source": [
    "Although the gym can be 'exercised' directly as seen above, we've also written utility methods which allow for the running of a strategy once or over many episodes, facilitating training or other sorts of analysis.\n",
    "\n",
    "To utilize these methods, strategies should be exposed as a function or lambda with the following signature:\n",
    "\n",
    "Action a = strategy( observation, environment )\n",
    "\n",
    "Below, we define some simple strategies and look briefly at their behavior to better understand the trading gym."
   ]
  },
  {
   "cell_type": "code",
   "execution_count": 31,
   "metadata": {},
   "outputs": [
    {
     "name": "stdout",
     "output_type": "stream",
     "text": [
      "   action   bod_nav   mkt_nav  mkt_return  sim_return  position   costs  trade\n",
      "0     2.0  1.000000  1.000000   -0.000559   -0.001100       1.0  0.0011    1.0\n",
      "1     2.0  0.998900  0.999441   -0.020145   -0.020245       1.0  0.0001    0.0\n",
      "2     2.0  0.978677  0.979306    0.014849    0.014749       1.0  0.0001    0.0\n",
      "3     2.0  0.993111  0.993848    0.012943    0.012843       1.0  0.0001    0.0\n",
      "4     2.0  1.005866  1.006711   -0.050556   -0.050656       1.0  0.0001    0.0\n"
     ]
    },
    {
     "data": {
      "text/plain": [
       "<matplotlib.axes._subplots.AxesSubplot at 0x12092c7b8>"
      ]
     },
     "execution_count": 31,
     "metadata": {},
     "output_type": "execute_result"
    },
    {
     "data": {
      "image/png": "[encoded data removed]",
      "text/plain": [
       "<matplotlib.figure.Figure at 0x11f8809b0>"
      ]
     },
     "metadata": {},
     "output_type": "display_data"
    }
   ],
   "source": [
    "\n",
    "import gym_trading.envs.trading_env as te\n",
    "\n",
    "env = env.unwrapped\n",
    "\n",
    "stayflat     = lambda o,e: 1   # stand pat\n",
    "buyandhold   = lambda o,e: 2   # buy on day #1 and hold\n",
    "randomtrader = lambda o,e: e.action_space.sample() # retail trader\n",
    "\n",
    "# to run singly, we call run_strat.  we are returned a dataframe containing \n",
    "#  all steps in the sim.\n",
    "bhdf = env.run_strat(buyandhold)\n",
    "\n",
    "print (bhdf.head())\n",
    "\n",
    "# we can easily plot our nav in time:\n",
    "bhdf.bod_nav.plot(title='buy & hold nav')"
   ]
  },
  {
   "cell_type": "markdown",
   "metadata": {},
   "source": [
    "#### Running the same strategy multiple times will likely yield different results as underlying data changes"
   ]
  },
  {
   "cell_type": "code",
   "execution_count": 32,
   "metadata": {},
   "outputs": [
    {
     "data": {
      "text/plain": [
       "<matplotlib.axes._subplots.AxesSubplot at 0x11f9f8470>"
      ]
     },
     "execution_count": 32,
     "metadata": {},
     "output_type": "execute_result"
    },
    {
     "data": {
      "image/png": "[encoded data removed]",
      "text/plain": [
       "<matplotlib.figure.Figure at 0x11f8805c0>"
      ]
     },
     "metadata": {},
     "output_type": "display_data"
    }
   ],
   "source": [
    "\n",
    "env.run_strat(buyandhold).bod_nav.plot(title='same strat, different results')\n",
    "env.run_strat(buyandhold).bod_nav.plot()\n",
    "env.run_strat(buyandhold).bod_nav.plot()"
   ]
  },
  {
   "cell_type": "markdown",
   "metadata": {},
   "source": [
    "#### Comparing 'Buy and Hold' and 'Random Trader'"
   ]
  },
  {
   "cell_type": "code",
   "execution_count": 37,
   "metadata": {},
   "outputs": [
    {
     "data": {
      "text/html": [
       "<div>\n",
       "<style>\n",
       "    .dataframe thead tr:only-child th {\n",
       "        text-align: right;\n",
       "    }\n",
       "\n",
       "    .dataframe thead th {\n",
       "        text-align: left;\n",
       "    }\n",
       "\n",
       "    .dataframe tbody tr th {\n",
       "        vertical-align: top;\n",
       "    }\n",
       "</style>\n",
       "<table border=\"1\" class=\"dataframe\">\n",
       "  <thead>\n",
       "    <tr style=\"text-align: right;\">\n",
       "      <th></th>\n",
       "      <th>buyhold</th>\n",
       "      <th>random</th>\n",
       "    </tr>\n",
       "  </thead>\n",
       "  <tbody>\n",
       "    <tr>\n",
       "      <th>action</th>\n",
       "      <td>2.000000</td>\n",
       "      <td>0.908730</td>\n",
       "    </tr>\n",
       "    <tr>\n",
       "      <th>bod_nav</th>\n",
       "      <td>1.238212</td>\n",
       "      <td>0.842703</td>\n",
       "    </tr>\n",
       "    <tr>\n",
       "      <th>mkt_nav</th>\n",
       "      <td>1.266374</td>\n",
       "      <td>1.419809</td>\n",
       "    </tr>\n",
       "    <tr>\n",
       "      <th>mkt_return</th>\n",
       "      <td>0.002638</td>\n",
       "      <td>0.001378</td>\n",
       "    </tr>\n",
       "    <tr>\n",
       "      <th>sim_return</th>\n",
       "      <td>0.002499</td>\n",
       "      <td>-0.000910</td>\n",
       "    </tr>\n",
       "    <tr>\n",
       "      <th>position</th>\n",
       "      <td>1.000000</td>\n",
       "      <td>-0.091270</td>\n",
       "    </tr>\n",
       "    <tr>\n",
       "      <th>costs</th>\n",
       "      <td>0.000104</td>\n",
       "      <td>0.000969</td>\n",
       "    </tr>\n",
       "    <tr>\n",
       "      <th>trade</th>\n",
       "      <td>0.003968</td>\n",
       "      <td>0.003968</td>\n",
       "    </tr>\n",
       "  </tbody>\n",
       "</table>\n",
       "</div>"
      ],
      "text/plain": [
       "             buyhold    random\n",
       "action      2.000000  0.908730\n",
       "bod_nav     1.238212  0.842703\n",
       "mkt_nav     1.266374  1.419809\n",
       "mkt_return  0.002638  0.001378\n",
       "sim_return  0.002499 -0.000910\n",
       "position    1.000000 -0.091270\n",
       "costs       0.000104  0.000969\n",
       "trade       0.003968  0.003968"
      ]
     },
     "execution_count": 37,
     "metadata": {},
     "output_type": "execute_result"
    }
   ],
   "source": [
    "# running a strategy multiple times should yield insights \n",
    "#   into its expected behavior or give it oppty to learn\n",
    "bhdf = env.run_strat(buyandhold,100)\n",
    "rdf = env.run_strat(randomtrader,100)\n",
    "\n",
    "comparo = pd.DataFrame({'buyhold':bhdf.mean(),\n",
    "                        'random': rdf.mean()})\n",
    "comparo"
   ]
  },
  {
   "cell_type": "markdown",
   "metadata": {},
   "source": [
    "#### Game Objectives"
   ]
  },
  {
   "cell_type": "markdown",
   "metadata": {},
   "source": [
    "From the above examples, we can see that buying and holding will, over the long run, give you the market return with low costs.\n",
    "\n",
    "Randomly trading will instead destroy value rather quickly as costs overwhelm."
   ]
  },
  {
   "cell_type": "markdown",
   "metadata": {},
   "source": [
    "#### What does it mean to win the trading game?"
   ]
  },
  {
   "cell_type": "markdown",
   "metadata": {},
   "source": [
    "For our purposes, we'll say that beating a buy & hold strategy, on average, over one hundred episodes will notch a win to the proud ai player.\n",
    "\n",
    "To support this, the trading environment maintains the mkt_return which can be compared with the sim_return.\n",
    "\n",
    "Note that the mkt_return is frictionless while the sim_return incurs both trading costs and the decay cost of 1 basis point per day, so overcoming the hurdle we've set here should be challenging."
   ]
  },
  {
   "cell_type": "code",
   "execution_count": 63,
   "metadata": {},
   "outputs": [],
   "source": [
    "import tensorflow as tf\n",
    "import gym_trading.envs.policy_gradient as policy_gradient"
   ]
  },
  {
   "cell_type": "code",
   "execution_count": 64,
   "metadata": {},
   "outputs": [
    {
     "name": "stderr",
     "output_type": "stream",
     "text": [
      "[2018-01-30 20:03:18,448] Making new env: trading-v0\n"
     ]
    }
   ],
   "source": [
    "import gym_trading\n",
    "env = gym.make('trading-v0')"
   ]
  },
  {
   "cell_type": "code",
   "execution_count": 75,
   "metadata": {},
   "outputs": [
    {
     "name": "stderr",
     "output_type": "stream",
     "text": [
      "[2018-01-31 11:29:53,844] year #     0, mean reward:  -0.0022, sim ret:  -0.2373, mkt ret:   0.0174, net:  -0.2547\n",
      "[2018-01-31 11:29:55,410] year #    10, mean reward:  -0.0191, sim ret:  -0.1601, mkt ret:   0.2344, net:  -0.3945\n",
      "[2018-01-31 11:29:56,965] year #    20, mean reward:  -0.0187, sim ret:  -0.4688, mkt ret:  -0.4553, net:  -0.0134\n",
      "[2018-01-31 11:29:58,506] year #    30, mean reward:  -0.0114, sim ret:   0.1834, mkt ret:   0.4786, net:  -0.2951\n",
      "[2018-01-31 11:30:00,080] year #    40, mean reward:   0.0005, sim ret:   0.3475, mkt ret:   0.0692, net:   0.2783\n",
      "[2018-01-31 11:30:01,885] year #    50, mean reward:   0.0005, sim ret:  -0.0033, mkt ret:  -0.1647, net:   0.1614\n",
      "[2018-01-31 11:30:03,525] year #    60, mean reward:   0.0154, sim ret:   0.1340, mkt ret:   0.5202, net:  -0.3862\n",
      "[2018-01-31 11:30:05,085] year #    70, mean reward:   0.0267, sim ret:   0.3618, mkt ret:   0.3333, net:   0.0285\n",
      "[2018-01-31 11:30:06,672] year #    80, mean reward:   0.0245, sim ret:  -0.0355, mkt ret:   0.1247, net:  -0.1602\n",
      "[2018-01-31 11:30:08,265] year #    90, mean reward:   0.0275, sim ret:   0.1374, mkt ret:   0.1829, net:  -0.0455\n"
     ]
    }
   ],
   "source": [
    "tf.reset_default_graph()\n",
    "#env = env.unwrapped\n",
    "# create the tf session\n",
    "sess = tf.InteractiveSession()\n",
    "\n",
    "# create policygradient\n",
    "pg = policy_gradient.PolicyGradient(sess, obs_dim=5, num_actions=3, learning_rate=1e-2 )\n",
    "\n",
    "# and now let's train it and evaluate its progress.  NB: this could take some time...\n",
    "df,sf = pg.train_model( env,episodes=100, log_freq=10)#, load_model=True)"
   ]
  },
  {
   "cell_type": "code",
   "execution_count": 69,
   "metadata": {},
   "outputs": [
    {
     "data": {
      "text/plain": [
       "<matplotlib.axes._subplots.AxesSubplot at 0x123226b70>"
      ]
     },
     "execution_count": 69,
     "metadata": {},
     "output_type": "execute_result"
    },
    {
     "data": {
      "image/png": "[encoded data removed]",
      "text/plain": [
       "<matplotlib.figure.Figure at 0x122806908>"
      ]
     },
     "metadata": {},
     "output_type": "display_data"
    }
   ],
   "source": [
    "sf['net'] = sf.simror - sf.mktror\n",
    "#sf.net.plot()\n",
    "sf.net.expanding().mean().plot()\n",
    "sf.net.rolling(100).mean().plot()"
   ]
  },
  {
   "cell_type": "code",
   "execution_count": 62,
   "metadata": {},
   "outputs": [
    {
     "data": {
      "text/plain": [
       "495    0.004557\n",
       "496    0.005043\n",
       "497    0.003307\n",
       "498   -0.000629\n",
       "499   -0.000421\n",
       "Name: net, dtype: float64"
      ]
     },
     "execution_count": 62,
     "metadata": {},
     "output_type": "execute_result"
    }
   ],
   "source": [
    "sf.net.rolling(100).mean().tail()"
   ]
  },
  {
   "cell_type": "code",
   "execution_count": null,
   "metadata": {
    "collapsed": true
   },
   "outputs": [],
   "source": []
  }
 ],
 "metadata": {
  "kernelspec": {
   "display_name": "Python 3",
   "language": "python",
   "name": "python3"
  },
  "language_info": {
   "codemirror_mode": {
    "name": "ipython",
    "version": 3
   },
   "file_extension": ".py",
   "mimetype": "text/x-python",
   "name": "python",
   "nbconvert_exporter": "python",
   "pygments_lexer": "ipython3",
   "version": "3.6.1"
  }
 },
 "nbformat": 4,
 "nbformat_minor": 2
}
