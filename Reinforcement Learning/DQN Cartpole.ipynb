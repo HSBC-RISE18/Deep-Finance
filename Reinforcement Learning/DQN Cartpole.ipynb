{
 "cells": [
  {
   "cell_type": "markdown",
   "metadata": {},
   "source": [
    "Credits: Matthias Plappert\n",
    "\n",
    "Source: https://github.com/matthiasplappert/keras-rl\n"
   ]
  },
  {
   "cell_type": "code",
   "execution_count": 1,
   "metadata": {},
   "outputs": [
    {
     "name": "stderr",
     "output_type": "stream",
     "text": [
      "Using TensorFlow backend.\n"
     ]
    }
   ],
   "source": [
    "import numpy as np\n",
    "import gym\n",
    "\n",
    "from keras.models import Sequential\n",
    "from keras.layers import Dense, Activation, Flatten\n",
    "from keras.optimizers import Adam\n",
    "\n",
    "from rl.agents.dqn import DQNAgent\n",
    "from rl.policy import BoltzmannQPolicy\n",
    "from rl.memory import SequentialMemory"
   ]
  },
  {
   "cell_type": "code",
   "execution_count": 2,
   "metadata": {},
   "outputs": [
    {
     "name": "stderr",
     "output_type": "stream",
     "text": [
      "[2018-01-29 19:46:56,631] Making new env: CartPole-v0\n"
     ]
    }
   ],
   "source": [
    "ENV_NAME = 'CartPole-v0'\n",
    "\n",
    "\n",
    "# Get the environment and extract the number of actions.\n",
    "env = gym.make(ENV_NAME)\n",
    "np.random.seed(123)\n",
    "env.seed(123)\n",
    "nb_actions = env.action_space.n"
   ]
  },
  {
   "cell_type": "code",
   "execution_count": 3,
   "metadata": {},
   "outputs": [
    {
     "name": "stdout",
     "output_type": "stream",
     "text": [
      "_________________________________________________________________\n",
      "Layer (type)                 Output Shape              Param #   \n",
      "=================================================================\n",
      "flatten_1 (Flatten)          (None, 4)                 0         \n",
      "_________________________________________________________________\n",
      "dense_1 (Dense)              (None, 16)                80        \n",
      "_________________________________________________________________\n",
      "activation_1 (Activation)    (None, 16)                0         \n",
      "_________________________________________________________________\n",
      "dense_2 (Dense)              (None, 16)                272       \n",
      "_________________________________________________________________\n",
      "activation_2 (Activation)    (None, 16)                0         \n",
      "_________________________________________________________________\n",
      "dense_3 (Dense)              (None, 16)                272       \n",
      "_________________________________________________________________\n",
      "activation_3 (Activation)    (None, 16)                0         \n",
      "_________________________________________________________________\n",
      "dense_4 (Dense)              (None, 2)                 34        \n",
      "_________________________________________________________________\n",
      "activation_4 (Activation)    (None, 2)                 0         \n",
      "=================================================================\n",
      "Total params: 658\n",
      "Trainable params: 658\n",
      "Non-trainable params: 0\n",
      "_________________________________________________________________\n",
      "None\n"
     ]
    }
   ],
   "source": [
    "# Next, we build a very simple model.\n",
    "model = Sequential()\n",
    "model.add(Flatten(input_shape=(1,) + env.observation_space.shape))\n",
    "model.add(Dense(16))\n",
    "model.add(Activation('relu'))\n",
    "model.add(Dense(16))\n",
    "model.add(Activation('relu'))\n",
    "model.add(Dense(16))\n",
    "model.add(Activation('relu'))\n",
    "model.add(Dense(nb_actions))\n",
    "model.add(Activation('linear'))\n",
    "print(model.summary())"
   ]
  },
  {
   "cell_type": "code",
   "execution_count": 4,
   "metadata": {
    "collapsed": true
   },
   "outputs": [],
   "source": [
    "# Finally, we configure and compile our agent. You can use every built-in Keras optimizer and\n",
    "# even the metrics!\n",
    "memory = SequentialMemory(limit=50000, window_length=1)\n",
    "policy = BoltzmannQPolicy()\n",
    "dqn = DQNAgent(model=model, nb_actions=nb_actions, memory=memory, nb_steps_warmup=10,\n",
    "               target_model_update=1e-2, policy=policy)\n",
    "dqn.compile(Adam(lr=1e-3), metrics=['mae'])"
   ]
  },
  {
   "cell_type": "code",
   "execution_count": 5,
   "metadata": {},
   "outputs": [
    {
     "name": "stdout",
     "output_type": "stream",
     "text": [
      "Training for 50000 steps ...\n"
     ]
    },
    {
     "name": "stderr",
     "output_type": "stream",
     "text": [
      "/Users/hussainmohammadyousuf/anaconda/lib/python3.6/site-packages/rl/memory.py:29: UserWarning: Not enough entries to sample without replacement. Consider increasing your warm-up phase to avoid oversampling!\n",
      "  warnings.warn('Not enough entries to sample without replacement. Consider increasing your warm-up phase to avoid oversampling!')\n"
     ]
    },
    {
     "name": "stdout",
     "output_type": "stream",
     "text": [
      "    31/50000: episode: 1, duration: 2.973s, episode steps: 31, steps per second: 10, episode reward: 31.000, mean reward: 1.000 [1.000, 1.000], mean action: 0.419 [0.000, 1.000], mean observation: 0.013 [-1.185, 1.776], loss: 0.459659, mean_absolute_error: 0.519437, mean_q: 0.096432\n"
     ]
    },
    {
     "name": "stderr",
     "output_type": "stream",
     "text": [
      "/Users/hussainmohammadyousuf/anaconda/lib/python3.6/site-packages/rl/memory.py:29: UserWarning: Not enough entries to sample without replacement. Consider increasing your warm-up phase to avoid oversampling!\n",
      "  warnings.warn('Not enough entries to sample without replacement. Consider increasing your warm-up phase to avoid oversampling!')\n"
     ]
    },
    {
     "name": "stdout",
     "output_type": "stream",
     "text": [
      "    44/50000: episode: 2, duration: 0.221s, episode steps: 13, steps per second: 59, episode reward: 13.000, mean reward: 1.000 [1.000, 1.000], mean action: 0.692 [0.000, 1.000], mean observation: -0.069 [-1.867, 1.224], loss: 0.350367, mean_absolute_error: 0.542432, mean_q: 0.291314\n",
      "    64/50000: episode: 3, duration: 0.330s, episode steps: 20, steps per second: 61, episode reward: 20.000, mean reward: 1.000 [1.000, 1.000], mean action: 0.550 [0.000, 1.000], mean observation: -0.070 [-1.375, 0.833], loss: 0.232356, mean_absolute_error: 0.555896, mean_q: 0.490309\n",
      "    83/50000: episode: 4, duration: 0.317s, episode steps: 19, steps per second: 60, episode reward: 19.000, mean reward: 1.000 [1.000, 1.000], mean action: 0.421 [0.000, 1.000], mean observation: 0.074 [-0.817, 1.505], loss: 0.119146, mean_absolute_error: 0.605534, mean_q: 0.818067\n",
      "    98/50000: episode: 5, duration: 0.246s, episode steps: 15, steps per second: 61, episode reward: 15.000, mean reward: 1.000 [1.000, 1.000], mean action: 0.600 [0.000, 1.000], mean observation: -0.090 [-1.368, 0.825], loss: 0.060912, mean_absolute_error: 0.680751, mean_q: 1.138367\n",
      "   114/50000: episode: 6, duration: 0.268s, episode steps: 16, steps per second: 60, episode reward: 16.000, mean reward: 1.000 [1.000, 1.000], mean action: 0.750 [0.000, 1.000], mean observation: -0.069 [-2.711, 1.766], loss: 0.036514, mean_absolute_error: 0.716656, mean_q: 1.296133\n",
      "   128/50000: episode: 7, duration: 0.232s, episode steps: 14, steps per second: 60, episode reward: 14.000, mean reward: 1.000 [1.000, 1.000], mean action: 0.429 [0.000, 1.000], mean observation: 0.111 [-0.934, 1.483], loss: 0.031106, mean_absolute_error: 0.753025, mean_q: 1.413789\n",
      "   151/50000: episode: 8, duration: 0.381s, episode steps: 23, steps per second: 60, episode reward: 23.000, mean reward: 1.000 [1.000, 1.000], mean action: 0.304 [0.000, 1.000], mean observation: 0.050 [-1.760, 2.679], loss: 0.023880, mean_absolute_error: 0.816505, mean_q: 1.591987\n",
      "   162/50000: episode: 9, duration: 0.183s, episode steps: 11, steps per second: 60, episode reward: 11.000, mean reward: 1.000 [1.000, 1.000], mean action: 0.273 [0.000, 1.000], mean observation: 0.133 [-1.133, 1.962], loss: 0.013806, mean_absolute_error: 0.870893, mean_q: 1.787133\n",
      "   175/50000: episode: 10, duration: 0.221s, episode steps: 13, steps per second: 59, episode reward: 13.000, mean reward: 1.000 [1.000, 1.000], mean action: 0.769 [0.000, 1.000], mean observation: -0.118 [-2.439, 1.549], loss: 0.039393, mean_absolute_error: 0.926983, mean_q: 1.837184\n",
      "   201/50000: episode: 11, duration: 0.427s, episode steps: 26, steps per second: 61, episode reward: 26.000, mean reward: 1.000 [1.000, 1.000], mean action: 0.346 [0.000, 1.000], mean observation: 0.032 [-1.588, 2.376], loss: 0.040787, mean_absolute_error: 0.987343, mean_q: 1.986209\n",
      "   249/50000: episode: 12, duration: 0.802s, episode steps: 48, steps per second: 60, episode reward: 48.000, mean reward: 1.000 [1.000, 1.000], mean action: 0.542 [0.000, 1.000], mean observation: 0.035 [-1.274, 1.190], loss: 0.061290, mean_absolute_error: 1.136232, mean_q: 2.254803\n",
      "   263/50000: episode: 13, duration: 0.233s, episode steps: 14, steps per second: 60, episode reward: 14.000, mean reward: 1.000 [1.000, 1.000], mean action: 0.286 [0.000, 1.000], mean observation: 0.109 [-1.331, 2.179], loss: 0.059249, mean_absolute_error: 1.264530, mean_q: 2.508625\n",
      "   273/50000: episode: 14, duration: 0.166s, episode steps: 10, steps per second: 60, episode reward: 10.000, mean reward: 1.000 [1.000, 1.000], mean action: 0.800 [0.000, 1.000], mean observation: -0.119 [-1.984, 1.195], loss: 0.060076, mean_absolute_error: 1.299054, mean_q: 2.592520\n",
      "   284/50000: episode: 15, duration: 0.182s, episode steps: 11, steps per second: 61, episode reward: 11.000, mean reward: 1.000 [1.000, 1.000], mean action: 0.273 [0.000, 1.000], mean observation: 0.104 [-0.993, 1.750], loss: 0.070976, mean_absolute_error: 1.342971, mean_q: 2.687627\n",
      "   299/50000: episode: 16, duration: 0.250s, episode steps: 15, steps per second: 60, episode reward: 15.000, mean reward: 1.000 [1.000, 1.000], mean action: 0.467 [0.000, 1.000], mean observation: 0.098 [-0.591, 1.214], loss: 0.087646, mean_absolute_error: 1.404412, mean_q: 2.737168\n",
      "   326/50000: episode: 17, duration: 0.450s, episode steps: 27, steps per second: 60, episode reward: 27.000, mean reward: 1.000 [1.000, 1.000], mean action: 0.370 [0.000, 1.000], mean observation: 0.003 [-1.536, 2.180], loss: 0.097237, mean_absolute_error: 1.508343, mean_q: 2.952250\n",
      "   362/50000: episode: 18, duration: 0.599s, episode steps: 36, steps per second: 60, episode reward: 36.000, mean reward: 1.000 [1.000, 1.000], mean action: 0.528 [0.000, 1.000], mean observation: -0.113 [-1.609, 0.424], loss: 0.095427, mean_absolute_error: 1.653295, mean_q: 3.241949\n",
      "   376/50000: episode: 19, duration: 0.232s, episode steps: 14, steps per second: 60, episode reward: 14.000, mean reward: 1.000 [1.000, 1.000], mean action: 0.429 [0.000, 1.000], mean observation: 0.125 [-0.954, 1.529], loss: 0.118820, mean_absolute_error: 1.775182, mean_q: 3.470889\n",
      "   391/50000: episode: 20, duration: 0.250s, episode steps: 15, steps per second: 60, episode reward: 15.000, mean reward: 1.000 [1.000, 1.000], mean action: 0.400 [0.000, 1.000], mean observation: 0.093 [-0.787, 1.440], loss: 0.142139, mean_absolute_error: 1.833619, mean_q: 3.544341\n",
      "   404/50000: episode: 21, duration: 0.217s, episode steps: 13, steps per second: 60, episode reward: 13.000, mean reward: 1.000 [1.000, 1.000], mean action: 0.769 [0.000, 1.000], mean observation: -0.080 [-2.403, 1.585], loss: 0.123676, mean_absolute_error: 1.881525, mean_q: 3.668558\n",
      "   421/50000: episode: 22, duration: 0.282s, episode steps: 17, steps per second: 60, episode reward: 17.000, mean reward: 1.000 [1.000, 1.000], mean action: 0.353 [0.000, 1.000], mean observation: 0.073 [-1.189, 1.939], loss: 0.121500, mean_absolute_error: 1.956369, mean_q: 3.822178\n",
      "   429/50000: episode: 23, duration: 0.134s, episode steps: 8, steps per second: 60, episode reward: 8.000, mean reward: 1.000 [1.000, 1.000], mean action: 0.125 [0.000, 1.000], mean observation: 0.152 [-1.334, 2.212], loss: 0.071169, mean_absolute_error: 1.986893, mean_q: 3.978492\n",
      "   444/50000: episode: 24, duration: 0.250s, episode steps: 15, steps per second: 60, episode reward: 15.000, mean reward: 1.000 [1.000, 1.000], mean action: 0.800 [0.000, 1.000], mean observation: -0.076 [-2.774, 1.774], loss: 0.227226, mean_absolute_error: 2.083864, mean_q: 3.974076\n",
      "   471/50000: episode: 25, duration: 0.449s, episode steps: 27, steps per second: 60, episode reward: 27.000, mean reward: 1.000 [1.000, 1.000], mean action: 0.444 [0.000, 1.000], mean observation: 0.023 [-0.801, 1.304], loss: 0.155793, mean_absolute_error: 2.169591, mean_q: 4.235554\n",
      "   521/50000: episode: 26, duration: 0.836s, episode steps: 50, steps per second: 60, episode reward: 50.000, mean reward: 1.000 [1.000, 1.000], mean action: 0.440 [0.000, 1.000], mean observation: 0.047 [-1.162, 1.993], loss: 0.166611, mean_absolute_error: 2.323253, mean_q: 4.520533\n",
      "   554/50000: episode: 27, duration: 0.546s, episode steps: 33, steps per second: 60, episode reward: 33.000, mean reward: 1.000 [1.000, 1.000], mean action: 0.333 [0.000, 1.000], mean observation: -0.051 [-2.136, 2.776], loss: 0.172522, mean_absolute_error: 2.512601, mean_q: 4.898044\n",
      "   567/50000: episode: 28, duration: 0.215s, episode steps: 13, steps per second: 60, episode reward: 13.000, mean reward: 1.000 [1.000, 1.000], mean action: 0.308 [0.000, 1.000], mean observation: 0.091 [-1.036, 1.812], loss: 0.241485, mean_absolute_error: 2.602657, mean_q: 4.994702\n",
      "   588/50000: episode: 29, duration: 0.351s, episode steps: 21, steps per second: 60, episode reward: 21.000, mean reward: 1.000 [1.000, 1.000], mean action: 0.524 [0.000, 1.000], mean observation: -0.052 [-1.009, 0.637], loss: 0.262394, mean_absolute_error: 2.678926, mean_q: 5.194837\n",
      "   610/50000: episode: 30, duration: 0.364s, episode steps: 22, steps per second: 60, episode reward: 22.000, mean reward: 1.000 [1.000, 1.000], mean action: 0.636 [0.000, 1.000], mean observation: -0.066 [-2.104, 1.229], loss: 0.229243, mean_absolute_error: 2.773442, mean_q: 5.301897\n"
     ]
    },
    {
     "name": "stdout",
     "output_type": "stream",
     "text": [
      "   633/50000: episode: 31, duration: 0.381s, episode steps: 23, steps per second: 60, episode reward: 23.000, mean reward: 1.000 [1.000, 1.000], mean action: 0.391 [0.000, 1.000], mean observation: 0.027 [-1.198, 1.655], loss: 0.256799, mean_absolute_error: 2.855434, mean_q: 5.454647\n",
      "   654/50000: episode: 32, duration: 0.351s, episode steps: 21, steps per second: 60, episode reward: 21.000, mean reward: 1.000 [1.000, 1.000], mean action: 0.429 [0.000, 1.000], mean observation: 0.074 [-0.653, 1.449], loss: 0.257734, mean_absolute_error: 2.938653, mean_q: 5.580149\n",
      "   670/50000: episode: 33, duration: 0.268s, episode steps: 16, steps per second: 60, episode reward: 16.000, mean reward: 1.000 [1.000, 1.000], mean action: 0.312 [0.000, 1.000], mean observation: 0.088 [-1.156, 1.974], loss: 0.212216, mean_absolute_error: 2.985630, mean_q: 5.764056\n",
      "   682/50000: episode: 34, duration: 0.198s, episode steps: 12, steps per second: 61, episode reward: 12.000, mean reward: 1.000 [1.000, 1.000], mean action: 0.333 [0.000, 1.000], mean observation: 0.115 [-0.934, 1.701], loss: 0.251427, mean_absolute_error: 3.051926, mean_q: 5.856042\n",
      "   693/50000: episode: 35, duration: 0.182s, episode steps: 11, steps per second: 60, episode reward: 11.000, mean reward: 1.000 [1.000, 1.000], mean action: 0.364 [0.000, 1.000], mean observation: 0.118 [-1.007, 1.702], loss: 0.296828, mean_absolute_error: 3.067850, mean_q: 5.841158\n",
      "   707/50000: episode: 36, duration: 0.232s, episode steps: 14, steps per second: 60, episode reward: 14.000, mean reward: 1.000 [1.000, 1.000], mean action: 0.286 [0.000, 1.000], mean observation: 0.093 [-1.202, 2.006], loss: 0.364283, mean_absolute_error: 3.112237, mean_q: 5.901523\n",
      "   727/50000: episode: 37, duration: 0.336s, episode steps: 20, steps per second: 60, episode reward: 20.000, mean reward: 1.000 [1.000, 1.000], mean action: 0.500 [0.000, 1.000], mean observation: -0.091 [-0.984, 0.423], loss: 0.298367, mean_absolute_error: 3.185268, mean_q: 6.062291\n",
      "   750/50000: episode: 38, duration: 0.380s, episode steps: 23, steps per second: 61, episode reward: 23.000, mean reward: 1.000 [1.000, 1.000], mean action: 0.391 [0.000, 1.000], mean observation: 0.090 [-0.976, 1.984], loss: 0.293187, mean_absolute_error: 3.246998, mean_q: 6.248354\n",
      "   781/50000: episode: 39, duration: 0.519s, episode steps: 31, steps per second: 60, episode reward: 31.000, mean reward: 1.000 [1.000, 1.000], mean action: 0.484 [0.000, 1.000], mean observation: -0.106 [-0.889, 0.387], loss: 0.270212, mean_absolute_error: 3.348670, mean_q: 6.461915\n",
      "   802/50000: episode: 40, duration: 0.350s, episode steps: 21, steps per second: 60, episode reward: 21.000, mean reward: 1.000 [1.000, 1.000], mean action: 0.524 [0.000, 1.000], mean observation: 0.089 [-0.600, 0.929], loss: 0.382196, mean_absolute_error: 3.423411, mean_q: 6.544375\n",
      "   822/50000: episode: 41, duration: 0.330s, episode steps: 20, steps per second: 61, episode reward: 20.000, mean reward: 1.000 [1.000, 1.000], mean action: 0.650 [0.000, 1.000], mean observation: -0.027 [-2.219, 1.559], loss: 0.301288, mean_absolute_error: 3.529045, mean_q: 6.830480\n",
      "   834/50000: episode: 42, duration: 0.201s, episode steps: 12, steps per second: 60, episode reward: 12.000, mean reward: 1.000 [1.000, 1.000], mean action: 0.417 [0.000, 1.000], mean observation: 0.095 [-1.026, 1.541], loss: 0.305895, mean_absolute_error: 3.604277, mean_q: 7.029188\n",
      "   856/50000: episode: 43, duration: 0.363s, episode steps: 22, steps per second: 61, episode reward: 22.000, mean reward: 1.000 [1.000, 1.000], mean action: 0.455 [0.000, 1.000], mean observation: 0.122 [-0.567, 1.373], loss: 0.310356, mean_absolute_error: 3.657087, mean_q: 7.129433\n",
      "   890/50000: episode: 44, duration: 0.569s, episode steps: 34, steps per second: 60, episode reward: 34.000, mean reward: 1.000 [1.000, 1.000], mean action: 0.471 [0.000, 1.000], mean observation: -0.079 [-1.027, 0.481], loss: 0.412011, mean_absolute_error: 3.767505, mean_q: 7.343325\n",
      "   908/50000: episode: 45, duration: 0.300s, episode steps: 18, steps per second: 60, episode reward: 18.000, mean reward: 1.000 [1.000, 1.000], mean action: 0.556 [0.000, 1.000], mean observation: -0.073 [-1.441, 1.016], loss: 0.398865, mean_absolute_error: 3.893653, mean_q: 7.626428\n",
      "   926/50000: episode: 46, duration: 0.300s, episode steps: 18, steps per second: 60, episode reward: 18.000, mean reward: 1.000 [1.000, 1.000], mean action: 0.389 [0.000, 1.000], mean observation: 0.101 [-1.141, 1.949], loss: 0.403092, mean_absolute_error: 3.888528, mean_q: 7.555112\n",
      "   968/50000: episode: 47, duration: 0.699s, episode steps: 42, steps per second: 60, episode reward: 42.000, mean reward: 1.000 [1.000, 1.000], mean action: 0.429 [0.000, 1.000], mean observation: 0.024 [-1.132, 1.815], loss: 0.375899, mean_absolute_error: 4.087182, mean_q: 8.009404\n",
      "  1000/50000: episode: 48, duration: 0.531s, episode steps: 32, steps per second: 60, episode reward: 32.000, mean reward: 1.000 [1.000, 1.000], mean action: 0.531 [0.000, 1.000], mean observation: -0.043 [-1.042, 0.885], loss: 0.308866, mean_absolute_error: 4.231686, mean_q: 8.337870\n",
      "  1027/50000: episode: 49, duration: 0.449s, episode steps: 27, steps per second: 60, episode reward: 27.000, mean reward: 1.000 [1.000, 1.000], mean action: 0.481 [0.000, 1.000], mean observation: 0.081 [-0.617, 1.432], loss: 0.436314, mean_absolute_error: 4.360609, mean_q: 8.624352\n",
      "  1117/50000: episode: 50, duration: 1.501s, episode steps: 90, steps per second: 60, episode reward: 90.000, mean reward: 1.000 [1.000, 1.000], mean action: 0.478 [0.000, 1.000], mean observation: -0.160 [-1.144, 0.686], loss: 0.340467, mean_absolute_error: 4.596455, mean_q: 9.163336\n",
      "  1256/50000: episode: 51, duration: 2.315s, episode steps: 139, steps per second: 60, episode reward: 139.000, mean reward: 1.000 [1.000, 1.000], mean action: 0.511 [0.000, 1.000], mean observation: 0.168 [-0.891, 1.311], loss: 0.442128, mean_absolute_error: 5.142716, mean_q: 10.273307\n",
      "  1280/50000: episode: 52, duration: 0.400s, episode steps: 24, steps per second: 60, episode reward: 24.000, mean reward: 1.000 [1.000, 1.000], mean action: 0.542 [0.000, 1.000], mean observation: -0.106 [-1.718, 0.770], loss: 0.582018, mean_absolute_error: 5.449762, mean_q: 10.827553\n",
      "  1340/50000: episode: 53, duration: 0.997s, episode steps: 60, steps per second: 60, episode reward: 60.000, mean reward: 1.000 [1.000, 1.000], mean action: 0.467 [0.000, 1.000], mean observation: -0.182 [-0.986, 0.791], loss: 0.514844, mean_absolute_error: 5.700953, mean_q: 11.358152\n",
      "  1397/50000: episode: 54, duration: 0.951s, episode steps: 57, steps per second: 60, episode reward: 57.000, mean reward: 1.000 [1.000, 1.000], mean action: 0.526 [0.000, 1.000], mean observation: 0.095 [-0.603, 1.153], loss: 0.602966, mean_absolute_error: 5.903194, mean_q: 11.755320\n",
      "  1501/50000: episode: 55, duration: 1.729s, episode steps: 104, steps per second: 60, episode reward: 104.000, mean reward: 1.000 [1.000, 1.000], mean action: 0.481 [0.000, 1.000], mean observation: 0.127 [-1.033, 1.701], loss: 0.558674, mean_absolute_error: 6.268501, mean_q: 12.546697\n",
      "  1616/50000: episode: 56, duration: 0.991s, episode steps: 115, steps per second: 116, episode reward: 115.000, mean reward: 1.000 [1.000, 1.000], mean action: 0.478 [0.000, 1.000], mean observation: -0.201 [-1.148, 0.753], loss: 0.599298, mean_absolute_error: 6.780824, mean_q: 13.627616\n",
      "  1713/50000: episode: 57, duration: 0.483s, episode steps: 97, steps per second: 201, episode reward: 97.000, mean reward: 1.000 [1.000, 1.000], mean action: 0.474 [0.000, 1.000], mean observation: -0.240 [-1.144, 0.865], loss: 0.684479, mean_absolute_error: 7.197229, mean_q: 14.480022\n",
      "  1859/50000: episode: 58, duration: 0.703s, episode steps: 146, steps per second: 208, episode reward: 146.000, mean reward: 1.000 [1.000, 1.000], mean action: 0.473 [0.000, 1.000], mean observation: -0.197 [-1.624, 0.956], loss: 0.724714, mean_absolute_error: 7.719001, mean_q: 15.553999\n",
      "  2059/50000: episode: 59, duration: 1.003s, episode steps: 200, steps per second: 199, episode reward: 200.000, mean reward: 1.000 [1.000, 1.000], mean action: 0.520 [0.000, 1.000], mean observation: 0.127 [-1.226, 1.441], loss: 0.762901, mean_absolute_error: 8.513766, mean_q: 17.250330\n"
     ]
    },
    {
     "name": "stdout",
     "output_type": "stream",
     "text": [
      "  2259/50000: episode: 60, duration: 0.998s, episode steps: 200, steps per second: 200, episode reward: 200.000, mean reward: 1.000 [1.000, 1.000], mean action: 0.515 [0.000, 1.000], mean observation: 0.139 [-0.885, 1.248], loss: 0.724206, mean_absolute_error: 9.454741, mean_q: 19.211803\n",
      "  2459/50000: episode: 61, duration: 0.991s, episode steps: 200, steps per second: 202, episode reward: 200.000, mean reward: 1.000 [1.000, 1.000], mean action: 0.480 [0.000, 1.000], mean observation: -0.144 [-1.494, 0.834], loss: 0.734959, mean_absolute_error: 10.487144, mean_q: 21.314400\n",
      "  2639/50000: episode: 62, duration: 0.969s, episode steps: 180, steps per second: 186, episode reward: 180.000, mean reward: 1.000 [1.000, 1.000], mean action: 0.472 [0.000, 1.000], mean observation: -0.249 [-2.008, 1.010], loss: 1.012814, mean_absolute_error: 11.366416, mean_q: 23.099739\n",
      "  2789/50000: episode: 63, duration: 0.758s, episode steps: 150, steps per second: 198, episode reward: 150.000, mean reward: 1.000 [1.000, 1.000], mean action: 0.467 [0.000, 1.000], mean observation: -0.325 [-2.160, 0.765], loss: 0.998215, mean_absolute_error: 12.158610, mean_q: 24.750217\n",
      "  2989/50000: episode: 64, duration: 0.953s, episode steps: 200, steps per second: 210, episode reward: 200.000, mean reward: 1.000 [1.000, 1.000], mean action: 0.500 [0.000, 1.000], mean observation: -0.024 [-1.186, 1.005], loss: 1.223923, mean_absolute_error: 12.993555, mean_q: 26.413197\n",
      "  3128/50000: episode: 65, duration: 0.654s, episode steps: 139, steps per second: 212, episode reward: 139.000, mean reward: 1.000 [1.000, 1.000], mean action: 0.468 [0.000, 1.000], mean observation: -0.316 [-2.053, 1.007], loss: 1.277436, mean_absolute_error: 13.765829, mean_q: 27.924643\n",
      "  3294/50000: episode: 66, duration: 0.785s, episode steps: 166, steps per second: 212, episode reward: 166.000, mean reward: 1.000 [1.000, 1.000], mean action: 0.470 [0.000, 1.000], mean observation: -0.324 [-1.994, 0.777], loss: 1.497093, mean_absolute_error: 14.381558, mean_q: 29.179775\n",
      "  3460/50000: episode: 67, duration: 0.827s, episode steps: 166, steps per second: 201, episode reward: 166.000, mean reward: 1.000 [1.000, 1.000], mean action: 0.476 [0.000, 1.000], mean observation: -0.294 [-1.851, 0.897], loss: 1.418815, mean_absolute_error: 15.060997, mean_q: 30.560228\n",
      "  3660/50000: episode: 68, duration: 0.988s, episode steps: 200, steps per second: 202, episode reward: 200.000, mean reward: 1.000 [1.000, 1.000], mean action: 0.485 [0.000, 1.000], mean observation: -0.142 [-1.269, 0.968], loss: 1.318880, mean_absolute_error: 15.863381, mean_q: 32.245583\n",
      "  3820/50000: episode: 69, duration: 0.769s, episode steps: 160, steps per second: 208, episode reward: 160.000, mean reward: 1.000 [1.000, 1.000], mean action: 0.481 [0.000, 1.000], mean observation: -0.277 [-1.644, 0.810], loss: 1.283133, mean_absolute_error: 16.754362, mean_q: 34.046227\n",
      "  4020/50000: episode: 70, duration: 0.956s, episode steps: 200, steps per second: 209, episode reward: 200.000, mean reward: 1.000 [1.000, 1.000], mean action: 0.490 [0.000, 1.000], mean observation: -0.102 [-1.104, 0.952], loss: 1.551277, mean_absolute_error: 17.438736, mean_q: 35.452389\n",
      "  4207/50000: episode: 71, duration: 0.890s, episode steps: 187, steps per second: 210, episode reward: 187.000, mean reward: 1.000 [1.000, 1.000], mean action: 0.524 [0.000, 1.000], mean observation: 0.213 [-0.734, 1.784], loss: 1.338361, mean_absolute_error: 18.322065, mean_q: 37.198708\n",
      "  4364/50000: episode: 72, duration: 0.753s, episode steps: 157, steps per second: 208, episode reward: 157.000, mean reward: 1.000 [1.000, 1.000], mean action: 0.478 [0.000, 1.000], mean observation: -0.283 [-1.642, 0.956], loss: 1.494350, mean_absolute_error: 19.107847, mean_q: 38.760479\n",
      "  4538/50000: episode: 73, duration: 0.864s, episode steps: 174, steps per second: 201, episode reward: 174.000, mean reward: 1.000 [1.000, 1.000], mean action: 0.477 [0.000, 1.000], mean observation: -0.343 [-2.441, 0.842], loss: 2.026026, mean_absolute_error: 19.819971, mean_q: 40.170063\n",
      "  4687/50000: episode: 74, duration: 0.711s, episode steps: 149, steps per second: 210, episode reward: 149.000, mean reward: 1.000 [1.000, 1.000], mean action: 0.523 [0.000, 1.000], mean observation: 0.243 [-0.741, 1.691], loss: 1.874807, mean_absolute_error: 20.341484, mean_q: 41.163857\n",
      "  4887/50000: episode: 75, duration: 1.002s, episode steps: 200, steps per second: 200, episode reward: 200.000, mean reward: 1.000 [1.000, 1.000], mean action: 0.480 [0.000, 1.000], mean observation: -0.297 [-2.199, 0.824], loss: 2.096216, mean_absolute_error: 20.995123, mean_q: 42.514400\n",
      "  5046/50000: episode: 76, duration: 0.784s, episode steps: 159, steps per second: 203, episode reward: 159.000, mean reward: 1.000 [1.000, 1.000], mean action: 0.522 [0.000, 1.000], mean observation: 0.172 [-0.811, 1.349], loss: 2.090820, mean_absolute_error: 21.706558, mean_q: 43.920547\n",
      "  5223/50000: episode: 77, duration: 0.871s, episode steps: 177, steps per second: 203, episode reward: 177.000, mean reward: 1.000 [1.000, 1.000], mean action: 0.480 [0.000, 1.000], mean observation: -0.372 [-2.570, 1.042], loss: 1.929417, mean_absolute_error: 22.278379, mean_q: 45.135864\n",
      "done, took 46.534 seconds\n"
     ]
    },
    {
     "data": {
      "text/plain": [
       "<keras.callbacks.History at 0x123cc1668>"
      ]
     },
     "execution_count": 5,
     "metadata": {},
     "output_type": "execute_result"
    }
   ],
   "source": [
    "# Okay, now it's time to learn something! We visualize the training here for show, but this\n",
    "# slows down training quite a lot. You can always safely abort the training prematurely using\n",
    "# Ctrl + C.\n",
    "dqn.fit(env, nb_steps=50000, visualize=True, verbose=2)"
   ]
  },
  {
   "cell_type": "code",
   "execution_count": 6,
   "metadata": {
    "collapsed": true
   },
   "outputs": [],
   "source": [
    "# After training is done, we save the final weights.\n",
    "dqn.save_weights('dqn_{}_weights.h5f'.format(ENV_NAME), overwrite=True)"
   ]
  },
  {
   "cell_type": "code",
   "execution_count": 7,
   "metadata": {},
   "outputs": [
    {
     "name": "stdout",
     "output_type": "stream",
     "text": [
      "Testing for 5 episodes ...\n",
      "Episode 1: reward: 200.000, steps: 200\n",
      "Episode 2: reward: 192.000, steps: 192\n",
      "Episode 3: reward: 200.000, steps: 200\n",
      "Episode 4: reward: 200.000, steps: 200\n",
      "Episode 5: reward: 200.000, steps: 200\n"
     ]
    },
    {
     "data": {
      "text/plain": [
       "<keras.callbacks.History at 0x12ca1ccf8>"
      ]
     },
     "execution_count": 7,
     "metadata": {},
     "output_type": "execute_result"
    }
   ],
   "source": [
    "# Finally, evaluate our algorithm for 5 episodes.\n",
    "dqn.test(env, nb_episodes=5, visualize=True)"
   ]
  },
  {
   "cell_type": "code",
   "execution_count": null,
   "metadata": {
    "collapsed": true
   },
   "outputs": [],
   "source": []
  }
 ],
 "metadata": {
  "kernelspec": {
   "display_name": "Python 3",
   "language": "python",
   "name": "python3"
  },
  "language_info": {
   "codemirror_mode": {
    "name": "ipython",
    "version": 3
   },
   "file_extension": ".py",
   "mimetype": "text/x-python",
   "name": "python",
   "nbconvert_exporter": "python",
   "pygments_lexer": "ipython3",
   "version": "3.6.1"
  }
 },
 "nbformat": 4,
 "nbformat_minor": 2
}
