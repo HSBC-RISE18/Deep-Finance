{
 "cells": [
  {
   "cell_type": "markdown",
   "metadata": {},
   "source": [
    "# Volatility Forecasting and Custom Loss Function\n",
    "\n",
    "\n"
   ]
  },
  {
   "cell_type": "markdown",
   "metadata": {},
   "source": [
    "Credits: Alex Honchar\n",
    "\n",
    "Source: https://github.com/Rachnog/Deep-Trading/blob/master/volatility/volatility.py\n"
   ]
  },
  {
   "cell_type": "code",
   "execution_count": 1,
   "metadata": {
    "collapsed": true
   },
   "outputs": [],
   "source": [
    "import numpy as np"
   ]
  },
  {
   "cell_type": "code",
   "execution_count": 2,
   "metadata": {
    "collapsed": true
   },
   "outputs": [],
   "source": [
    "def shuffle_in_unison(a, b):\n",
    "    # courtsey http://stackoverflow.com/users/190280/josh-bleecher-snyder\n",
    "    assert len(a) == len(b)\n",
    "    shuffled_a = np.empty(a.shape, dtype=a.dtype)\n",
    "    shuffled_b = np.empty(b.shape, dtype=b.dtype)\n",
    "    permutation = np.random.permutation(len(a))\n",
    "    for old_index, new_index in enumerate(permutation):\n",
    "        shuffled_a[new_index] = a[old_index]\n",
    "        shuffled_b[new_index] = b[old_index]\n",
    "    return shuffled_a, shuffled_b"
   ]
  },
  {
   "cell_type": "code",
   "execution_count": 3,
   "metadata": {
    "collapsed": true
   },
   "outputs": [],
   "source": [
    "def create_Xt_Yt(X, y, percentage=0.9):\n",
    "    p = int(len(X) * percentage)\n",
    "    X_train = X[0:p]\n",
    "    Y_train = y[0:p]\n",
    "     \n",
    "    X_train, Y_train = shuffle_in_unison(X_train, Y_train)\n",
    " \n",
    "    X_test = X[p:]\n",
    "    Y_test = y[p:]\n",
    "\n",
    "    return X_train, X_test, Y_train, Y_test"
   ]
  },
  {
   "cell_type": "code",
   "execution_count": 4,
   "metadata": {
    "collapsed": true
   },
   "outputs": [],
   "source": [
    "def remove_nan_examples(data):\n",
    "    newX = []\n",
    "    for i in range(len(data)):\n",
    "        if np.isnan(data[i]).any() == False:\n",
    "            newX.append(data[i])\n",
    "    return newX"
   ]
  },
  {
   "cell_type": "code",
   "execution_count": 5,
   "metadata": {
    "collapsed": true
   },
   "outputs": [],
   "source": [
    "import matplotlib.pylab as plt\n",
    "import pandas as pd"
   ]
  },
  {
   "cell_type": "code",
   "execution_count": 6,
   "metadata": {},
   "outputs": [
    {
     "name": "stderr",
     "output_type": "stream",
     "text": [
      "Using TensorFlow backend.\n"
     ]
    }
   ],
   "source": [
    "from keras.models import Sequential\n",
    "from keras.layers.core import Dense, Dropout, Activation, Flatten\n",
    "from keras.layers.recurrent import LSTM, GRU\n",
    "from keras.layers import Convolution1D, MaxPooling1D, AtrousConvolution1D, RepeatVector\n",
    "from keras.callbacks import ModelCheckpoint, ReduceLROnPlateau, CSVLogger\n",
    "from keras.layers.wrappers import Bidirectional\n",
    "from keras import regularizers\n",
    "from keras.layers.normalization import BatchNormalization\n",
    "from keras.layers.advanced_activations import *\n",
    "from keras.optimizers import RMSprop, Adam, SGD, Nadam\n",
    "from keras.initializers import *\n",
    "from keras.constraints import *\n",
    "\n",
    "from keras import backend as K\n",
    "import seaborn as sns\n",
    "sns.despine()"
   ]
  },
  {
   "cell_type": "code",
   "execution_count": 7,
   "metadata": {
    "collapsed": true
   },
   "outputs": [],
   "source": [
    "def data2change(data):\n",
    "    change = pd.DataFrame(data).pct_change()\n",
    "    change = change.replace([np.inf, -np.inf], np.nan)\n",
    "    change = change.fillna(0.).values.tolist()\n",
    "    change = [c[0] for c in change]\n",
    "    return change"
   ]
  },
  {
   "cell_type": "code",
   "execution_count": 8,
   "metadata": {
    "collapsed": true
   },
   "outputs": [],
   "source": [
    "WINDOW = 5\n",
    "EMB_SIZE = 6\n",
    "STEP = 1\n",
    "FORECAST = 1"
   ]
  },
  {
   "cell_type": "code",
   "execution_count": 9,
   "metadata": {
    "collapsed": true
   },
   "outputs": [],
   "source": [
    "data_original = pd.read_csv('dataset/700_data_from_IB_1day.csv')[::-1]"
   ]
  },
  {
   "cell_type": "code",
   "execution_count": 10,
   "metadata": {
    "collapsed": true
   },
   "outputs": [],
   "source": [
    "openp = data_original.loc[:, 'open'].tolist()\n",
    "highp = data_original.loc[:, 'high'].tolist()\n",
    "lowp = data_original.loc[:, 'low'].tolist()\n",
    "closep = data_original.loc[:, 'close'].tolist()\n",
    "volumep = data_original.loc[:, 'volume'].tolist()"
   ]
  },
  {
   "cell_type": "code",
   "execution_count": 11,
   "metadata": {
    "collapsed": true
   },
   "outputs": [],
   "source": [
    "openp = data2change(openp)\n",
    "highp = data2change(highp)\n",
    "lowp = data2change(lowp)\n",
    "closep = data2change(closep)\n",
    "volumep = data2change(volumep)"
   ]
  },
  {
   "cell_type": "code",
   "execution_count": 12,
   "metadata": {
    "collapsed": true
   },
   "outputs": [],
   "source": [
    "volatility = []\n",
    "for i in range(WINDOW, len(openp)):\n",
    "    window = highp[i-WINDOW:i]\n",
    "    volatility.append(np.std(window))"
   ]
  },
  {
   "cell_type": "code",
   "execution_count": 13,
   "metadata": {
    "collapsed": true
   },
   "outputs": [],
   "source": [
    "openp, highp, lowp, closep, volumep = openp[WINDOW:], highp[WINDOW:], lowp[WINDOW:], closep[WINDOW:], volumep[WINDOW:]"
   ]
  },
  {
   "cell_type": "code",
   "execution_count": 27,
   "metadata": {},
   "outputs": [
    {
     "data": {
      "image/png": "[encoded data removed]",
      "text/plain": [
       "<matplotlib.figure.Figure at 0x122887588>"
      ]
     },
     "metadata": {},
     "output_type": "display_data"
    }
   ],
   "source": [
    "plt.plot(volatility)\n",
    "plt.show()"
   ]
  },
  {
   "cell_type": "code",
   "execution_count": 28,
   "metadata": {
    "collapsed": true
   },
   "outputs": [],
   "source": [
    "X, Y = [], []\n",
    "for i in range(0, len(data_original), STEP): \n",
    "    try:\n",
    "        o = openp[i:i+WINDOW]\n",
    "        h = highp[i:i+WINDOW]\n",
    "        l = lowp[i:i+WINDOW]\n",
    "        c = closep[i:i+WINDOW]\n",
    "        v = volumep[i:i+WINDOW]\n",
    "\n",
    "        volat = volatility[i:i+WINDOW]\n",
    "\n",
    "        y_i = volatility[i+WINDOW+FORECAST] \n",
    "#        y_i = closep[i+WINDOW+FORECAST] \n",
    "        x_i = np.column_stack((volat, o, h, l, c, v))\n",
    "\n",
    "    except Exception as e:\n",
    "        break\n",
    "\n",
    "    X.append(x_i)\n",
    "    Y.append(y_i)\n",
    "\n",
    "X, Y = np.array(X), np.array(Y)\n",
    "X_train, X_test, Y_train, Y_test = create_Xt_Yt(X, Y)"
   ]
  },
  {
   "cell_type": "code",
   "execution_count": 29,
   "metadata": {
    "collapsed": true
   },
   "outputs": [],
   "source": [
    "X_train = np.reshape(X_train, (X_train.shape[0], X_train.shape[1], EMB_SIZE))\n",
    "X_test = np.reshape(X_test, (X_test.shape[0], X_test.shape[1], EMB_SIZE))"
   ]
  },
  {
   "cell_type": "code",
   "execution_count": 30,
   "metadata": {
    "collapsed": true
   },
   "outputs": [],
   "source": [
    "epsilon = 1.0e-9\n",
    "def qlike_loss(y_true, y_pred):\n",
    "    y_pred = K.clip(y_pred, epsilon, 1.0 - epsilon)\n",
    "    loss = K.log(y_pred) + y_true / y_pred\n",
    "    return K.mean(loss, axis=-1)"
   ]
  },
  {
   "cell_type": "code",
   "execution_count": 31,
   "metadata": {
    "collapsed": true
   },
   "outputs": [],
   "source": [
    "def mse_log(y_true, y_pred):\n",
    "    y_pred = K.clip(y_pred, epsilon, 1.0 - epsilon)\n",
    "    loss = K.square(K.log(y_true) - K.log(y_pred))\n",
    "    return K.mean(loss, axis=-1)"
   ]
  },
  {
   "cell_type": "code",
   "execution_count": 32,
   "metadata": {
    "collapsed": true
   },
   "outputs": [],
   "source": [
    "def mse_sd(y_true, y_pred):\n",
    "    y_pred = K.clip(y_pred, epsilon, 1.0 - epsilon)\n",
    "    loss = K.square(y_true - K.sqrt(y_pred))\n",
    "    return K.mean(loss, axis=-1)  "
   ]
  },
  {
   "cell_type": "code",
   "execution_count": 33,
   "metadata": {
    "collapsed": true
   },
   "outputs": [],
   "source": [
    "def hmse(y_true, y_pred):\n",
    "    y_pred = K.clip(y_pred, epsilon, 1.0 - epsilon)\n",
    "    loss = K.square(y_true / y_pred - 1.)\n",
    "    return K.mean(loss, axis=-1) "
   ]
  },
  {
   "cell_type": "code",
   "execution_count": 34,
   "metadata": {
    "collapsed": true
   },
   "outputs": [],
   "source": [
    "def stock_loss(y_true, y_pred):\n",
    "    alpha = 100.\n",
    "    loss = K.switch(K.less(y_true * y_pred, 0), \\\n",
    "        alpha*y_pred**2 - K.sign(y_true)*y_pred + K.abs(y_true), \\\n",
    "        K.abs(y_true - y_pred)\n",
    "        )\n",
    "    return K.mean(loss, axis=-1)"
   ]
  },
  {
   "cell_type": "code",
   "execution_count": 35,
   "metadata": {
    "collapsed": true
   },
   "outputs": [],
   "source": [
    "model = Sequential()\n",
    "model.add(Convolution1D(input_shape = (WINDOW, EMB_SIZE),\n",
    "                        filters=16,\n",
    "                        kernel_size=4,\n",
    "                        padding='same'))\n",
    "model.add(MaxPooling1D(2))\n",
    "model.add(LeakyReLU())\n",
    "model.add(Convolution1D(filters=32,\n",
    "                        kernel_size=4,\n",
    "                        padding='same'))\n",
    "model.add(MaxPooling1D(2))\n",
    "model.add(LeakyReLU())\n",
    "model.add(Flatten())\n",
    "\n",
    "model.add(Dense(16))\n",
    "model.add(LeakyReLU())\n",
    "\n",
    "model.add(Dense(1))\n",
    "model.add(Activation('linear'))\n",
    "\n",
    "opt = Nadam(lr=0.002)\n",
    "\n",
    "reduce_lr = ReduceLROnPlateau(monitor='val_loss', factor=0.9, patience=25, min_lr=0.000001, verbose=1)\n",
    "checkpointer = ModelCheckpoint(filepath=\"lolkekr.hdf5\", verbose=1, save_best_only=True)\n",
    "\n",
    "model.compile(optimizer=opt, \n",
    "              loss=mse_log)"
   ]
  },
  {
   "cell_type": "code",
   "execution_count": 36,
   "metadata": {
    "scrolled": true
   },
   "outputs": [
    {
     "name": "stdout",
     "output_type": "stream",
     "text": [
      "Train on 315 samples, validate on 36 samples\n",
      "Epoch 1/100\n",
      "256/315 [=======================>......] - ETA: 0s - loss: 258.7612Epoch 00000: val_loss improved from inf to 259.30005, saving model to lolkekr.hdf5\n",
      "315/315 [==============================] - 0s - loss: 259.5256 - val_loss: 259.3000\n",
      "Epoch 2/100\n",
      "256/315 [=======================>......] - ETA: 0s - loss: 259.3793Epoch 00001: val_loss did not improve\n",
      "315/315 [==============================] - 0s - loss: 259.5255 - val_loss: 259.3000\n",
      "Epoch 3/100\n",
      "256/315 [=======================>......] - ETA: 0s - loss: 259.4261Epoch 00002: val_loss did not improve\n",
      "315/315 [==============================] - 0s - loss: 259.5256 - val_loss: 259.3000\n",
      "Epoch 4/100\n",
      "256/315 [=======================>......] - ETA: 0s - loss: 259.4594Epoch 00003: val_loss did not improve\n",
      "315/315 [==============================] - 0s - loss: 259.5256 - val_loss: 259.3000\n",
      "Epoch 5/100\n",
      "256/315 [=======================>......] - ETA: 0s - loss: 259.5300Epoch 00004: val_loss did not improve\n",
      "315/315 [==============================] - 0s - loss: 259.5256 - val_loss: 259.3000\n",
      "Epoch 6/100\n",
      "256/315 [=======================>......] - ETA: 0s - loss: 259.1129Epoch 00005: val_loss did not improve\n",
      "315/315 [==============================] - 0s - loss: 259.5256 - val_loss: 259.3000\n",
      "Epoch 7/100\n",
      "256/315 [=======================>......] - ETA: 0s - loss: 259.1476Epoch 00006: val_loss did not improve\n",
      "315/315 [==============================] - 0s - loss: 259.5256 - val_loss: 259.3000\n",
      "Epoch 8/100\n",
      "256/315 [=======================>......] - ETA: 0s - loss: 259.3954Epoch 00007: val_loss did not improve\n",
      "315/315 [==============================] - 0s - loss: 259.5256 - val_loss: 259.3000\n",
      "Epoch 9/100\n",
      "256/315 [=======================>......] - ETA: 0s - loss: 259.3948Epoch 00008: val_loss did not improve\n",
      "315/315 [==============================] - 0s - loss: 259.5256 - val_loss: 259.3000\n",
      "Epoch 10/100\n",
      "256/315 [=======================>......] - ETA: 0s - loss: 259.2727Epoch 00009: val_loss did not improve\n",
      "315/315 [==============================] - 0s - loss: 259.5256 - val_loss: 259.3000\n",
      "Epoch 11/100\n",
      "256/315 [=======================>......] - ETA: 0s - loss: 259.4101Epoch 00010: val_loss did not improve\n",
      "315/315 [==============================] - 0s - loss: 259.5256 - val_loss: 259.3000\n",
      "Epoch 12/100\n",
      "256/315 [=======================>......] - ETA: 0s - loss: 258.6572Epoch 00011: val_loss did not improve\n",
      "315/315 [==============================] - 0s - loss: 259.5256 - val_loss: 259.3000\n",
      "Epoch 13/100\n",
      "256/315 [=======================>......] - ETA: 0s - loss: 259.4806Epoch 00012: val_loss did not improve\n",
      "315/315 [==============================] - 0s - loss: 259.5255 - val_loss: 259.3000\n",
      "Epoch 14/100\n",
      "256/315 [=======================>......] - ETA: 0s - loss: 259.1283Epoch 00013: val_loss did not improve\n",
      "315/315 [==============================] - 0s - loss: 259.5256 - val_loss: 259.3000\n",
      "Epoch 15/100\n",
      "256/315 [=======================>......] - ETA: 0s - loss: 258.9285Epoch 00014: val_loss did not improve\n",
      "315/315 [==============================] - 0s - loss: 259.5256 - val_loss: 259.3000\n",
      "Epoch 16/100\n",
      "256/315 [=======================>......] - ETA: 0s - loss: 259.2736Epoch 00015: val_loss did not improve\n",
      "315/315 [==============================] - 0s - loss: 259.5256 - val_loss: 259.3000\n",
      "Epoch 17/100\n",
      "256/315 [=======================>......] - ETA: 0s - loss: 259.8845Epoch 00016: val_loss did not improve\n",
      "315/315 [==============================] - 0s - loss: 259.5256 - val_loss: 259.3000\n",
      "Epoch 18/100\n",
      "256/315 [=======================>......] - ETA: 0s - loss: 259.7176Epoch 00017: val_loss did not improve\n",
      "315/315 [==============================] - 0s - loss: 259.5256 - val_loss: 259.3000\n",
      "Epoch 19/100\n",
      "256/315 [=======================>......] - ETA: 0s - loss: 259.8772Epoch 00018: val_loss did not improve\n",
      "315/315 [==============================] - 0s - loss: 259.5256 - val_loss: 259.3000\n",
      "Epoch 20/100\n",
      "256/315 [=======================>......] - ETA: 0s - loss: 259.1262Epoch 00019: val_loss did not improve\n",
      "315/315 [==============================] - 0s - loss: 259.5256 - val_loss: 259.3000\n",
      "Epoch 21/100\n",
      "256/315 [=======================>......] - ETA: 0s - loss: 259.3102Epoch 00020: val_loss did not improve\n",
      "315/315 [==============================] - 0s - loss: 259.5256 - val_loss: 259.3000\n",
      "Epoch 22/100\n",
      "256/315 [=======================>......] - ETA: 0s - loss: 259.8539Epoch 00021: val_loss did not improve\n",
      "315/315 [==============================] - 0s - loss: 259.5255 - val_loss: 259.3000\n",
      "Epoch 23/100\n",
      "256/315 [=======================>......] - ETA: 0s - loss: 259.2794Epoch 00022: val_loss did not improve\n",
      "315/315 [==============================] - 0s - loss: 259.5256 - val_loss: 259.3000\n",
      "Epoch 24/100\n",
      "256/315 [=======================>......] - ETA: 0s - loss: 260.3042Epoch 00023: val_loss did not improve\n",
      "315/315 [==============================] - 0s - loss: 259.5255 - val_loss: 259.3000\n",
      "Epoch 25/100\n",
      "256/315 [=======================>......] - ETA: 0s - loss: 259.7598Epoch 00024: val_loss did not improve\n",
      "315/315 [==============================] - 0s - loss: 259.5256 - val_loss: 259.3000\n",
      "Epoch 26/100\n",
      "256/315 [=======================>......] - ETA: 0s - loss: 259.2946Epoch 00025: val_loss did not improve\n",
      "315/315 [==============================] - 0s - loss: 259.5256 - val_loss: 259.3000\n",
      "Epoch 27/100\n",
      "256/315 [=======================>......] - ETA: 0s - loss: 259.2502\n",
      "Epoch 00026: reducing learning rate to 0.0018000000854954123.\n",
      "Epoch 00026: val_loss did not improve\n",
      "315/315 [==============================] - 0s - loss: 259.5256 - val_loss: 259.3000\n",
      "Epoch 28/100\n",
      "256/315 [=======================>......] - ETA: 0s - loss: 259.3044Epoch 00027: val_loss did not improve\n",
      "315/315 [==============================] - 0s - loss: 259.5255 - val_loss: 259.3000\n",
      "Epoch 29/100\n",
      "256/315 [=======================>......] - ETA: 0s - loss: 259.7291Epoch 00028: val_loss did not improve\n",
      "315/315 [==============================] - 0s - loss: 259.5255 - val_loss: 259.3000\n",
      "Epoch 30/100\n",
      "256/315 [=======================>......] - ETA: 0s - loss: 259.3599Epoch 00029: val_loss did not improve\n",
      "315/315 [==============================] - 0s - loss: 259.5255 - val_loss: 259.3000\n",
      "Epoch 31/100\n",
      "256/315 [=======================>......] - ETA: 0s - loss: 259.9811Epoch 00030: val_loss did not improve\n",
      "315/315 [==============================] - 0s - loss: 259.5255 - val_loss: 259.3000\n",
      "Epoch 32/100\n",
      "256/315 [=======================>......] - ETA: 0s - loss: 259.8071Epoch 00031: val_loss did not improve\n",
      "315/315 [==============================] - 0s - loss: 259.5256 - val_loss: 259.3000\n",
      "Epoch 33/100\n",
      "256/315 [=======================>......] - ETA: 0s - loss: 259.8998Epoch 00032: val_loss did not improve\n",
      "315/315 [==============================] - 0s - loss: 259.5256 - val_loss: 259.3000\n",
      "Epoch 34/100\n",
      "256/315 [=======================>......] - ETA: 0s - loss: 259.9509Epoch 00033: val_loss did not improve\n",
      "315/315 [==============================] - 0s - loss: 259.5255 - val_loss: 259.3000\n",
      "Epoch 35/100\n",
      "256/315 [=======================>......] - ETA: 0s - loss: 259.5198Epoch 00034: val_loss did not improve\n",
      "315/315 [==============================] - 0s - loss: 259.5256 - val_loss: 259.3000\n",
      "Epoch 36/100\n",
      "256/315 [=======================>......] - ETA: 0s - loss: 258.6555Epoch 00035: val_loss did not improve\n",
      "315/315 [==============================] - 0s - loss: 259.5256 - val_loss: 259.3000\n",
      "Epoch 37/100\n",
      "256/315 [=======================>......] - ETA: 0s - loss: 259.3762Epoch 00036: val_loss did not improve\n",
      "315/315 [==============================] - 0s - loss: 259.5256 - val_loss: 259.3000\n",
      "Epoch 38/100\n",
      "256/315 [=======================>......] - ETA: 0s - loss: 259.5955Epoch 00037: val_loss did not improve\n",
      "315/315 [==============================] - 0s - loss: 259.5256 - val_loss: 259.3000\n",
      "Epoch 39/100\n",
      "256/315 [=======================>......] - ETA: 0s - loss: 259.8595Epoch 00038: val_loss did not improve\n",
      "315/315 [==============================] - 0s - loss: 259.5256 - val_loss: 259.3000\n",
      "Epoch 40/100\n",
      "256/315 [=======================>......] - ETA: 0s - loss: 259.8311Epoch 00039: val_loss did not improve\n"
     ]
    },
    {
     "name": "stdout",
     "output_type": "stream",
     "text": [
      "315/315 [==============================] - 0s - loss: 259.5256 - val_loss: 259.3000\n",
      "Epoch 41/100\n",
      "256/315 [=======================>......] - ETA: 0s - loss: 260.1028Epoch 00040: val_loss did not improve\n",
      "315/315 [==============================] - 0s - loss: 259.5256 - val_loss: 259.3000\n",
      "Epoch 42/100\n",
      "256/315 [=======================>......] - ETA: 0s - loss: 259.3690Epoch 00041: val_loss did not improve\n",
      "315/315 [==============================] - 0s - loss: 259.5256 - val_loss: 259.3000\n",
      "Epoch 43/100\n",
      "256/315 [=======================>......] - ETA: 0s - loss: 258.9502Epoch 00042: val_loss did not improve\n",
      "315/315 [==============================] - 0s - loss: 259.5256 - val_loss: 259.3000\n",
      "Epoch 44/100\n",
      "256/315 [=======================>......] - ETA: 0s - loss: 259.4320Epoch 00043: val_loss did not improve\n",
      "315/315 [==============================] - 0s - loss: 259.5256 - val_loss: 259.3000\n",
      "Epoch 45/100\n",
      "256/315 [=======================>......] - ETA: 0s - loss: 260.1004Epoch 00044: val_loss did not improve\n",
      "315/315 [==============================] - 0s - loss: 259.5256 - val_loss: 259.3000\n",
      "Epoch 46/100\n",
      "256/315 [=======================>......] - ETA: 0s - loss: 258.9758Epoch 00045: val_loss did not improve\n",
      "315/315 [==============================] - 0s - loss: 259.5256 - val_loss: 259.3000\n",
      "Epoch 47/100\n",
      "256/315 [=======================>......] - ETA: 0s - loss: 259.1335Epoch 00046: val_loss did not improve\n",
      "315/315 [==============================] - 0s - loss: 259.5256 - val_loss: 259.3000\n",
      "Epoch 48/100\n",
      "256/315 [=======================>......] - ETA: 0s - loss: 259.5146Epoch 00047: val_loss did not improve\n",
      "315/315 [==============================] - 0s - loss: 259.5256 - val_loss: 259.3000\n",
      "Epoch 49/100\n",
      "256/315 [=======================>......] - ETA: 0s - loss: 259.6281Epoch 00048: val_loss did not improve\n",
      "315/315 [==============================] - 0s - loss: 259.5256 - val_loss: 259.3000\n",
      "Epoch 50/100\n",
      "256/315 [=======================>......] - ETA: 0s - loss: 260.4691Epoch 00049: val_loss did not improve\n",
      "315/315 [==============================] - 0s - loss: 259.5256 - val_loss: 259.3000\n",
      "Epoch 51/100\n",
      "256/315 [=======================>......] - ETA: 0s - loss: 259.7344Epoch 00050: val_loss did not improve\n",
      "315/315 [==============================] - 0s - loss: 259.5256 - val_loss: 259.3000\n",
      "Epoch 52/100\n",
      "256/315 [=======================>......] - ETA: 0s - loss: 259.2468\n",
      "Epoch 00051: reducing learning rate to 0.0016200000769458712.\n",
      "Epoch 00051: val_loss did not improve\n",
      "315/315 [==============================] - 0s - loss: 259.5256 - val_loss: 259.3000\n",
      "Epoch 53/100\n",
      "256/315 [=======================>......] - ETA: 0s - loss: 259.3466Epoch 00052: val_loss did not improve\n",
      "315/315 [==============================] - 0s - loss: 259.5256 - val_loss: 259.3000\n",
      "Epoch 54/100\n",
      "256/315 [=======================>......] - ETA: 0s - loss: 259.7182Epoch 00053: val_loss did not improve\n",
      "315/315 [==============================] - 0s - loss: 259.5256 - val_loss: 259.3000\n",
      "Epoch 55/100\n",
      "256/315 [=======================>......] - ETA: 0s - loss: 259.2936Epoch 00054: val_loss did not improve\n",
      "315/315 [==============================] - 0s - loss: 259.5256 - val_loss: 259.3000\n",
      "Epoch 56/100\n",
      "256/315 [=======================>......] - ETA: 0s - loss: 259.5237Epoch 00055: val_loss did not improve\n",
      "315/315 [==============================] - 0s - loss: 259.5256 - val_loss: 259.3000\n",
      "Epoch 57/100\n",
      "256/315 [=======================>......] - ETA: 0s - loss: 259.9807Epoch 00056: val_loss did not improve\n",
      "315/315 [==============================] - 0s - loss: 259.5256 - val_loss: 259.3000\n",
      "Epoch 58/100\n",
      "256/315 [=======================>......] - ETA: 0s - loss: 259.1021Epoch 00057: val_loss did not improve\n",
      "315/315 [==============================] - 0s - loss: 259.5256 - val_loss: 259.3000\n",
      "Epoch 59/100\n",
      "256/315 [=======================>......] - ETA: 0s - loss: 259.4661Epoch 00058: val_loss did not improve\n",
      "315/315 [==============================] - 0s - loss: 259.5256 - val_loss: 259.3000\n",
      "Epoch 60/100\n",
      "256/315 [=======================>......] - ETA: 0s - loss: 259.6733Epoch 00059: val_loss did not improve\n",
      "315/315 [==============================] - 0s - loss: 259.5256 - val_loss: 259.3000\n",
      "Epoch 61/100\n",
      "256/315 [=======================>......] - ETA: 0s - loss: 258.9825Epoch 00060: val_loss did not improve\n",
      "315/315 [==============================] - 0s - loss: 259.5256 - val_loss: 259.3000\n",
      "Epoch 62/100\n",
      "256/315 [=======================>......] - ETA: 0s - loss: 259.9785Epoch 00061: val_loss did not improve\n",
      "315/315 [==============================] - 0s - loss: 259.5256 - val_loss: 259.3000\n",
      "Epoch 63/100\n",
      "256/315 [=======================>......] - ETA: 0s - loss: 259.5814Epoch 00062: val_loss did not improve\n",
      "315/315 [==============================] - 0s - loss: 259.5256 - val_loss: 259.3000\n",
      "Epoch 64/100\n",
      "256/315 [=======================>......] - ETA: 0s - loss: 259.7894Epoch 00063: val_loss did not improve\n",
      "315/315 [==============================] - 0s - loss: 259.5256 - val_loss: 259.3000\n",
      "Epoch 65/100\n",
      "256/315 [=======================>......] - ETA: 0s - loss: 260.0952Epoch 00064: val_loss did not improve\n",
      "315/315 [==============================] - 0s - loss: 259.5256 - val_loss: 259.3000\n",
      "Epoch 66/100\n",
      "256/315 [=======================>......] - ETA: 0s - loss: 259.5706Epoch 00065: val_loss did not improve\n",
      "315/315 [==============================] - 0s - loss: 259.5256 - val_loss: 259.3000\n",
      "Epoch 67/100\n",
      "256/315 [=======================>......] - ETA: 0s - loss: 259.1936Epoch 00066: val_loss did not improve\n",
      "315/315 [==============================] - 0s - loss: 259.5256 - val_loss: 259.3000\n",
      "Epoch 68/100\n",
      "256/315 [=======================>......] - ETA: 0s - loss: 259.0174Epoch 00067: val_loss did not improve\n",
      "315/315 [==============================] - 0s - loss: 259.5256 - val_loss: 259.3000\n",
      "Epoch 69/100\n",
      "256/315 [=======================>......] - ETA: 0s - loss: 259.0338Epoch 00068: val_loss did not improve\n",
      "315/315 [==============================] - 0s - loss: 259.5256 - val_loss: 259.3000\n",
      "Epoch 70/100\n",
      "256/315 [=======================>......] - ETA: 0s - loss: 259.6320Epoch 00069: val_loss did not improve\n",
      "315/315 [==============================] - 0s - loss: 259.5255 - val_loss: 259.3000\n",
      "Epoch 71/100\n",
      "256/315 [=======================>......] - ETA: 0s - loss: 259.5622Epoch 00070: val_loss did not improve\n",
      "315/315 [==============================] - 0s - loss: 259.5256 - val_loss: 259.3000\n",
      "Epoch 72/100\n",
      "256/315 [=======================>......] - ETA: 0s - loss: 258.8958Epoch 00071: val_loss did not improve\n",
      "315/315 [==============================] - 0s - loss: 259.5256 - val_loss: 259.3000\n",
      "Epoch 73/100\n",
      "256/315 [=======================>......] - ETA: 0s - loss: 260.0471Epoch 00072: val_loss did not improve\n",
      "315/315 [==============================] - 0s - loss: 259.5256 - val_loss: 259.3000\n",
      "Epoch 74/100\n",
      "256/315 [=======================>......] - ETA: 0s - loss: 260.0804Epoch 00073: val_loss did not improve\n",
      "315/315 [==============================] - 0s - loss: 259.5256 - val_loss: 259.3000\n",
      "Epoch 75/100\n",
      "256/315 [=======================>......] - ETA: 0s - loss: 260.1114Epoch 00074: val_loss did not improve\n",
      "315/315 [==============================] - 0s - loss: 259.5256 - val_loss: 259.3000\n",
      "Epoch 76/100\n",
      "256/315 [=======================>......] - ETA: 0s - loss: 258.9677Epoch 00075: val_loss did not improve\n",
      "315/315 [==============================] - 0s - loss: 259.5256 - val_loss: 259.3000\n",
      "Epoch 77/100\n",
      "256/315 [=======================>......] - ETA: 0s - loss: 260.0375\n",
      "Epoch 00076: reducing learning rate to 0.001458000100683421.\n",
      "Epoch 00076: val_loss did not improve\n",
      "315/315 [==============================] - 0s - loss: 259.5256 - val_loss: 259.3000\n",
      "Epoch 78/100\n",
      "256/315 [=======================>......] - ETA: 0s - loss: 259.5800Epoch 00077: val_loss did not improve\n",
      "315/315 [==============================] - 0s - loss: 259.5256 - val_loss: 259.3000\n",
      "Epoch 79/100\n",
      "256/315 [=======================>......] - ETA: 0s - loss: 259.4225Epoch 00078: val_loss did not improve\n",
      "315/315 [==============================] - 0s - loss: 259.5256 - val_loss: 259.3000\n",
      "Epoch 80/100\n"
     ]
    },
    {
     "name": "stdout",
     "output_type": "stream",
     "text": [
      "256/315 [=======================>......] - ETA: 0s - loss: 258.8036Epoch 00079: val_loss did not improve\n",
      "315/315 [==============================] - 0s - loss: 259.5256 - val_loss: 259.3000\n",
      "Epoch 81/100\n",
      "256/315 [=======================>......] - ETA: 0s - loss: 259.9333Epoch 00080: val_loss did not improve\n",
      "315/315 [==============================] - 0s - loss: 259.5256 - val_loss: 259.3000\n",
      "Epoch 82/100\n",
      "256/315 [=======================>......] - ETA: 0s - loss: 259.3070Epoch 00081: val_loss did not improve\n",
      "315/315 [==============================] - 0s - loss: 259.5256 - val_loss: 259.3000\n",
      "Epoch 83/100\n",
      "256/315 [=======================>......] - ETA: 0s - loss: 259.8742Epoch 00082: val_loss did not improve\n",
      "315/315 [==============================] - 0s - loss: 259.5256 - val_loss: 259.3000\n",
      "Epoch 84/100\n",
      "256/315 [=======================>......] - ETA: 0s - loss: 260.1870Epoch 00083: val_loss did not improve\n",
      "315/315 [==============================] - 0s - loss: 259.5255 - val_loss: 259.3000\n",
      "Epoch 85/100\n",
      "256/315 [=======================>......] - ETA: 0s - loss: 259.3799Epoch 00084: val_loss did not improve\n",
      "315/315 [==============================] - 0s - loss: 259.5256 - val_loss: 259.3000\n",
      "Epoch 86/100\n",
      "256/315 [=======================>......] - ETA: 0s - loss: 259.4804Epoch 00085: val_loss did not improve\n",
      "315/315 [==============================] - 0s - loss: 259.5256 - val_loss: 259.3000\n",
      "Epoch 87/100\n",
      "256/315 [=======================>......] - ETA: 0s - loss: 259.3223Epoch 00086: val_loss did not improve\n",
      "315/315 [==============================] - 0s - loss: 259.5256 - val_loss: 259.3000\n",
      "Epoch 88/100\n",
      "256/315 [=======================>......] - ETA: 0s - loss: 260.2375Epoch 00087: val_loss did not improve\n",
      "315/315 [==============================] - 0s - loss: 259.5256 - val_loss: 259.3000\n",
      "Epoch 89/100\n",
      "256/315 [=======================>......] - ETA: 0s - loss: 259.0641Epoch 00088: val_loss did not improve\n",
      "315/315 [==============================] - 0s - loss: 259.5255 - val_loss: 259.3000\n",
      "Epoch 90/100\n",
      "256/315 [=======================>......] - ETA: 0s - loss: 259.5657Epoch 00089: val_loss did not improve\n",
      "315/315 [==============================] - 0s - loss: 259.5256 - val_loss: 259.3000\n",
      "Epoch 91/100\n",
      "256/315 [=======================>......] - ETA: 0s - loss: 259.4853Epoch 00090: val_loss did not improve\n",
      "315/315 [==============================] - 0s - loss: 259.5255 - val_loss: 259.3000\n",
      "Epoch 92/100\n",
      "256/315 [=======================>......] - ETA: 0s - loss: 259.8337Epoch 00091: val_loss did not improve\n",
      "315/315 [==============================] - 0s - loss: 259.5256 - val_loss: 259.3000\n",
      "Epoch 93/100\n",
      "256/315 [=======================>......] - ETA: 0s - loss: 259.7651Epoch 00092: val_loss did not improve\n",
      "315/315 [==============================] - 0s - loss: 259.5256 - val_loss: 259.3000\n",
      "Epoch 94/100\n",
      "256/315 [=======================>......] - ETA: 0s - loss: 259.7292Epoch 00093: val_loss did not improve\n",
      "315/315 [==============================] - 0s - loss: 259.5256 - val_loss: 259.3000\n",
      "Epoch 95/100\n",
      "256/315 [=======================>......] - ETA: 0s - loss: 259.6368Epoch 00094: val_loss did not improve\n",
      "315/315 [==============================] - 0s - loss: 259.5256 - val_loss: 259.3000\n",
      "Epoch 96/100\n",
      "256/315 [=======================>......] - ETA: 0s - loss: 259.1853Epoch 00095: val_loss did not improve\n",
      "315/315 [==============================] - 0s - loss: 259.5256 - val_loss: 259.3000\n",
      "Epoch 97/100\n",
      "256/315 [=======================>......] - ETA: 0s - loss: 260.2876Epoch 00096: val_loss did not improve\n",
      "315/315 [==============================] - 0s - loss: 259.5256 - val_loss: 259.3000\n",
      "Epoch 98/100\n",
      "256/315 [=======================>......] - ETA: 0s - loss: 259.5825Epoch 00097: val_loss did not improve\n",
      "315/315 [==============================] - 0s - loss: 259.5256 - val_loss: 259.3000\n",
      "Epoch 99/100\n",
      "256/315 [=======================>......] - ETA: 0s - loss: 260.5405Epoch 00098: val_loss did not improve\n",
      "315/315 [==============================] - 0s - loss: 259.5256 - val_loss: 259.3000\n",
      "Epoch 100/100\n",
      "256/315 [=======================>......] - ETA: 0s - loss: 260.4521Epoch 00099: val_loss did not improve\n",
      "315/315 [==============================] - 0s - loss: 259.5256 - val_loss: 259.3000\n"
     ]
    }
   ],
   "source": [
    "try:\n",
    "    history = model.fit(X_train, Y_train, \n",
    "              epochs = 100, \n",
    "              batch_size = 256, \n",
    "              verbose=1, \n",
    "              validation_data=(X_test, Y_test),\n",
    "              callbacks=[reduce_lr, checkpointer],\n",
    "              shuffle=True)\n",
    "except Exception as e:\n",
    "    print (e)\n",
    "\n"
   ]
  },
  {
   "cell_type": "code",
   "execution_count": 37,
   "metadata": {
    "collapsed": true
   },
   "outputs": [],
   "source": [
    "model.load_weights(\"lolkekr.hdf5\")\n",
    "pred = model.predict(X_test)\n",
    "predicted = pred\n",
    "original = Y_test\n",
    "    "
   ]
  },
  {
   "cell_type": "code",
   "execution_count": 38,
   "metadata": {},
   "outputs": [
    {
     "name": "stderr",
     "output_type": "stream",
     "text": [
      "/Users/hussainmohammadyousuf/anaconda/lib/python3.6/site-packages/matplotlib/axes/_axes.py:531: UserWarning: No labelled objects found. Use label='...' kwarg on individual plots.\n",
      "  warnings.warn(\"No labelled objects found. \"\n"
     ]
    },
    {
     "data": {
      "image/png": "[encoded data removed]",
      "text/plain": [
       "<matplotlib.figure.Figure at 0x122c06c50>"
      ]
     },
     "metadata": {},
     "output_type": "display_data"
    },
    {
     "name": "stdout",
     "output_type": "stream",
     "text": [
      "0.0317353187734\n",
      "0.157586736536\n",
      "17.0561156597\n"
     ]
    }
   ],
   "source": [
    "plt.title('Actual and predicted')\n",
    "plt.legend(loc='best')\n",
    "plt.plot(original, color='black', label = 'Original data')\n",
    "plt.plot(predicted, color='blue', label = 'Predicted data')\n",
    "plt.legend()\n",
    "plt.show()\n",
    "    \n",
    "print (np.mean(np.square(predicted - original)))\n",
    "print (np.mean(np.abs(predicted - original)))\n",
    "print (np.mean(np.abs((original - predicted) / original)))"
   ]
  },
  {
   "cell_type": "code",
   "execution_count": null,
   "metadata": {
    "collapsed": true
   },
   "outputs": [],
   "source": []
  }
 ],
 "metadata": {
  "kernelspec": {
   "display_name": "Python 3",
   "language": "python",
   "name": "python3"
  },
  "language_info": {
   "codemirror_mode": {
    "name": "ipython",
    "version": 3
   },
   "file_extension": ".py",
   "mimetype": "text/x-python",
   "name": "python",
   "nbconvert_exporter": "python",
   "pygments_lexer": "ipython3",
   "version": "3.6.1"
  }
 },
 "nbformat": 4,
 "nbformat_minor": 2
}
